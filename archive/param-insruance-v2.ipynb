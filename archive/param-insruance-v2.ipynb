{
 "cells": [
  {
   "cell_type": "markdown",
   "id": "58e2395a",
   "metadata": {},
   "source": [
    "## Parametric Insurance Risk Analysis Interface\n",
    "This notebook follows an actuarial workflow, proceeding from data setup to policy definition, trigger calibration, and final risk pricing. It uses the robust Percentile Trigger method to ensure triggers are set correctly for highly skewed rainfall data.\n",
    "\n",
    "### Data and Environment Setup\n",
    "\n",
    "This block installs dependencies, imports the core analysis functions, and sets up the necessary directories. It also checks for and downloads the 30 years of IMD historical data required for climatology calculations."
   ]
  },
  {
   "cell_type": "code",
   "execution_count": 1,
   "id": "2b4fdf1a",
   "metadata": {},
   "outputs": [],
   "source": [
    "# Install necessary libraries (Only needed if running for the first time)\n",
    "#!pip install imdlib pandas numpy matplotlib\n",
    "%load_ext autoreload\n",
    "%autoreload 2\n",
    "import os\n",
    "# Import all analysis functions from the core engine module\n",
    "from parametric_core import (\n",
    "    get_climatological_data,\n",
    "    run_live_parametric_engine,\n",
    "    calculate_historical_loss_expectancy,\n",
    "    create_payoff_frequency_heatmap,\n",
    "    analyze_aep_and_distribution\n",
    ")\n",
    "\n",
    "# Import data handling functions from the new module\n",
    "from data_ingestion import ensure_historical_data_exists, setup_data_directories\n"
   ]
  },
  {
   "cell_type": "markdown",
   "id": "2414cdef",
   "metadata": {},
   "source": [
    "### Define Policy and Model Parameters\n",
    "\n",
    "Define all geographical, contractual, and modeling parameters here. This is the only place you need to change inputs."
   ]
  },
  {
   "cell_type": "code",
   "execution_count": null,
   "id": "12722403",
   "metadata": {},
   "outputs": [
    {
     "name": "stdout",
     "output_type": "stream",
     "text": [
      "Policy defined for 19.076°N, 72.8777°E. Max Payout: 10,000.00.\n",
      "Full Payout Trigger (Fixed): 204.5 mm.\n"
     ]
    }
   ],
   "source": [
    "# =============================================================================\n",
    "# DEFINE CONTRACTUAL AND GEOGRAPHICAL PARAMETERS\n",
    "# =============================================================================\n",
    "\n",
    "# --- Geographical Target ---\n",
    "TARGET_LAT = 19.0760  # Example: Mumbai, Maharashtra\n",
    "TARGET_LON = 72.8777\n",
    "\n",
    "# --- Contractual Limits ---\n",
    "FULL_PAYOUT_AMOUNT = 10000.0  # Maximum payout amount (e.g., in INR or USD)\n",
    "POLICY_START_DATE = '2025-06-01'\n",
    "POLICY_END_DATE = '2025-09-30' \n",
    "\n",
    "# --- Data Directories ---\n",
    "DATA_DIR = 'IMD_Rain_Data'\n",
    "LPA_FILE = 'IMD_Rain_Data/LPA/climatology_data.csv' \n",
    "\n",
    "# --- Index Definition ---\n",
    "CUMULATIVE_DAYS = 1  # For a single-day extreme rainfall analysis\n",
    "LPA_START_YR = 1981\n",
    "LPA_END_YR = 2010 \n",
    "\n",
    "# --- Fixed Full Payout Threshold ---\n",
    "# This is a fixed severity trigger based on engineering risk (e.g., 150mm floods our site)\n",
    "FINAL_HIGH_RAINFALL_THRESHOLD_MM = 204.5\n",
    "\n",
    "print(f\"Policy defined for {TARGET_LAT}°N, {TARGET_LON}°E. Max Payout: {FULL_PAYOUT_AMOUNT:,.2f}.\")\n",
    "print(f\"Full Payout Trigger (Fixed): {FINAL_HIGH_RAINFALL_THRESHOLD_MM} mm.\")"
   ]
  },
  {
   "cell_type": "markdown",
   "id": "d7a3c3b6",
   "metadata": {},
   "source": [
    "### Calibrate the Partial Payout Trigger\n",
    "\n",
    "This is the most critical step. We define the percentile rank (the rarity) we want the partial trigger to represent, and the function calculates the precise rainfall amount in millimeters corresponding to that percentile only for your location."
   ]
  },
  {
   "cell_type": "code",
   "execution_count": null,
   "id": "d58b004b",
   "metadata": {},
   "outputs": [
    {
     "name": "stdout",
     "output_type": "stream",
     "text": [
      "\n",
      "--- Calculating Climatological LPA and Percentile Trigger for Target Point (19.0760°N, 72.8777°E) ---\n",
      "✅ Loaded LPA, Std Dev, and 99.9th Percentile from cache.\n",
      "\n",
      "--- Localized Climatology Results ---\n",
      "LPA Daily Rainfall (Baseline): 7.56 mm\n",
      "Std Dev Daily Rainfall: 23.72 mm\n",
      "🎯 Calculated Partial Payout Trigger (99.9% Rank): 153.38 mm\n"
     ]
    }
   ],
   "source": [
    "# =============================================================================\n",
    "# CALIBRATE PARTIAL PAYOUT TRIGGER (USING PERCENTILE)\n",
    "# =============================================================================\n",
    "\n",
    "# --- Risk Calibration Parameter (Adjust this value to change the policy's rarity) ---\n",
    "# 99.9 means the trigger will only be hit by the top 0.1% of all historical rain days.\n",
    "PARTIAL_TRIGGER_PERCENTILE = 99.9 \n",
    "\n",
    "# Run the calculation to get the localized baseline and the percentile value.\n",
    "lpa_daily, std_dev_daily, percentile_trigger_val = get_climatological_data(\n",
    "    TARGET_LAT, TARGET_LON, DATA_DIR, LPA_FILE, LPA_START_YR, LPA_END_YR, PARTIAL_TRIGGER_PERCENTILE)\n",
    "\n",
    "if percentile_trigger_val is not None:\n",
    "    # Set the variable for the core engine based on the calculated percentile value\n",
    "    PARTIAL_TRIGGER_VALUE = percentile_trigger_val\n",
    "    \n",
    "    # Safety check: ensure partial trigger is strictly below the full threshold\n",
    "    if PARTIAL_TRIGGER_VALUE >= FINAL_HIGH_RAINFALL_THRESHOLD_MM:\n",
    "         PARTIAL_TRIGGER_VALUE = FINAL_HIGH_RAINFALL_THRESHOLD_MM * 0.75\n",
    "    \n",
    "    print(\"\\n--- Localized Climatology Results ---\")\n",
    "    print(f\"LPA Daily Rainfall (Baseline): {lpa_daily:.2f} mm\")\n",
    "    print(f\"Std Dev Daily Rainfall: {std_dev_daily:.2f} mm\")\n",
    "    print(f\"🎯 Calculated Partial Payout Trigger ({PARTIAL_TRIGGER_PERCENTILE:.1f}% Rank): {PARTIAL_TRIGGER_VALUE:.2f} mm\")\n",
    "else:\n",
    "    PARTIAL_TRIGGER_VALUE = 0.0\n",
    "    print(\"❌ Critical: Percentile Trigger Calculation Failed.\")"
   ]
  },
  {
   "cell_type": "markdown",
   "id": "2ccf8518",
   "metadata": {},
   "source": [
    "### Validation and Pricing\n",
    "\n",
    "This block runs the full historical stress test, using your newly calibrated partial trigger and the fixed full trigger against $30 \\text{ years}$ of data. The output provides the Expected Annual Loss (EAL), which forms the basis of the insurance premium."
   ]
  },
  {
   "cell_type": "code",
   "execution_count": null,
   "id": "e90b3378",
   "metadata": {},
   "outputs": [],
   "source": [
    "# 1. Run the Stress Test (financial risk metrics: EAL/MAL)\n",
    "calculate_historical_loss_expectancy(\n",
    "    TARGET_LAT, \n",
    "    TARGET_LON, \n",
    "    DATA_DIR, \n",
    "    LPA_FILE, \n",
    "    LPA_START_YR, \n",
    "    LPA_END_YR, \n",
    "    FINAL_HIGH_RAINFALL_THRESHOLD_MM,\n",
    "    PARTIAL_TRIGGER_PERCENTILE, \n",
    "    CUMULATIVE_DAYS,\n",
    "    FULL_PAYOUT_AMOUNT\n",
    ")\n"
   ]
  },
  {
   "cell_type": "markdown",
   "id": "55f29ca1",
   "metadata": {},
   "source": [
    "### Trigger Validation - AEP and Return Period (RP)\n",
    "\n",
    "This step takes the Calculated Partial Trigger Value from Step 3 and the Full Payout Threshold from Step 2 and validates them against the full historical Annual Maximum series. This analysis generates the Annual Exceedance Probability (AEP) and Return Period (RP) table, which is essential for risk comparison."
   ]
  },
  {
   "cell_type": "code",
   "execution_count": null,
   "id": "a4ef9999",
   "metadata": {},
   "outputs": [
    {
     "name": "stdout",
     "output_type": "stream",
     "text": [
      "\n",
      "====================================================================\n",
      "📊 AEP & DISTRIBUTION ANALYSIS (Single-Day Index) 📊\n",
      "Period: 1990-2024\n",
      "====================================================================\n"
     ]
    }
   ],
   "source": [
    "# 1. AEP and Distribution Analysis \n",
    "# This shows the Annual Exceedance Probability and the Return Period \n",
    "# for the chosen PARTIAL_TRIGGER_PERCENTILE.\n",
    "analyze_aep_and_distribution(\n",
    "    TARGET_LAT, \n",
    "    TARGET_LON, \n",
    "    DATA_DIR, \n",
    "    LPA_START_YR, \n",
    "    LPA_END_YR,\n",
    "    lpa_daily,             \n",
    "    std_dev_daily,         \n",
    "    PARTIAL_TRIGGER_VALUE, \n",
    "    FINAL_HIGH_RAINFALL_THRESHOLD_MM,\n",
    "    CUMULATIVE_DAYS        \n",
    ")\n"
   ]
  },
  {
   "cell_type": "markdown",
   "id": "07bd9087",
   "metadata": {},
   "source": [
    "### Geographical Risk Assessment (Heatmap)\n",
    "\n",
    "This step provides the spatial context for the risk. The heatmap shows the historical frequency (AEP) of the Partial Payout Trigger being hit across the entire geographical region, allowing you to compare the target location's risk profile against its neighbors."
   ]
  },
  {
   "cell_type": "code",
   "execution_count": null,
   "id": "c34b5c9a",
   "metadata": {},
   "outputs": [],
   "source": [
    "# 2. Generate the Risk Map (geographical pricing assessment)\n",
    "create_payoff_frequency_heatmap(\n",
    "    TARGET_LAT,\n",
    "    TARGET_LON, \n",
    "    DATA_DIR, \n",
    "    LPA_START_YR, \n",
    "    LPA_END_YR,\n",
    "    FINAL_HIGH_RAINFALL_THRESHOLD_MM,\n",
    "    PARTIAL_TRIGGER_PERCENTILE, \n",
    "    CUMULATIVE_DAYS\n",
    ")\n"
   ]
  },
  {
   "cell_type": "markdown",
   "id": "7252ad5c",
   "metadata": {},
   "source": [
    "### Final Live Check\n",
    "\n",
    "This is the final application of the calibrated model, showing what the financial payout would be if the policy were active today, based on the latest available real-time index data."
   ]
  },
  {
   "cell_type": "code",
   "execution_count": null,
   "id": "22dee3d5",
   "metadata": {},
   "outputs": [],
   "source": [
    "# 3. Run the live check (real-time payout decision)\n",
    "run_live_parametric_engine(\n",
    "    TARGET_LAT, \n",
    "    TARGET_LON, \n",
    "    DATA_DIR, \n",
    "    LPA_FILE, \n",
    "    LPA_START_YR, \n",
    "    LPA_END_YR, \n",
    "    FINAL_HIGH_RAINFALL_THRESHOLD_MM,\n",
    "    PARTIAL_TRIGGER_PERCENTILE,\n",
    "    CUMULATIVE_DAYS,\n",
    "    FULL_PAYOUT_AMOUNT,\n",
    "    POLICY_START_DATE,\n",
    "    POLICY_END_DATE\n",
    ")"
   ]
  }
 ],
 "metadata": {
  "kernelspec": {
   "display_name": "Python 3",
   "language": "python",
   "name": "python3"
  },
  "language_info": {
   "codemirror_mode": {
    "name": "ipython",
    "version": 3
   },
   "file_extension": ".py",
   "mimetype": "text/x-python",
   "name": "python",
   "nbconvert_exporter": "python",
   "pygments_lexer": "ipython3",
   "version": "3.11.3"
  }
 },
 "nbformat": 4,
 "nbformat_minor": 5
}
