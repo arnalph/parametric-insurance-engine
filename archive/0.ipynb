{
"cells": [
{
"cell_type": "markdown",
"metadata": {},
"source": [
"# Parametric Contract Model Deep Dive\n",
"\n",
"This notebook provides a detailed study of the three parametric insurance contract models we've developed: Statistical Deviation, Graduated Catastrophic, and Binary Catastrophic. \n",
"\n",
"We use the core functions imported from parametric_core.py to analyze the Expected Annual Loss (EAL) and Annual Exceedance Probability (AEP) of each structure over a defined historical period. \n",
"\n",
"Note: To run this notebook, ensure you have the imdlib package installed and the IMD gridded rainfall data downloaded to the ./imd_data directory."
]
},
{
"cell_type": "code",
"execution_count": null,
"metadata": {},
"outputs": [],
"source": [
"# Import all necessary libraries and our core module\n",
"import pandas as pd\n",
"import numpy as np\n",
"import matplotlib.pyplot as plt\n",
"from IPython.display import display\n",
"\n",
"# Import all functions from the core module\n",
"from parametric_core import (\n",
"    LPA_START_YR, LPA_END_YR, DATA_DIR, LPA_DIR,\n",
"    BASE_TRIGGER_MM, MAX_PAYOUT, \n",
"    setup_data_directories, ensure_historical_data_exists, \n",
"    get_climatological_data, analyze_aep_and_distribution,\n",
"    calculate_payout_statistical, calculate_payout_graduated, calculate_payout_binary,\n",
"    calibrate_extreme_tail, calculate_historical_loss_expectancy\n",
")\n",
"\n",
"# --- Global Analysis Parameters ---\n",
"LAT = 18.5  # Pune, Maharashtra (Example Grid Point)\n",
"LON = 73.8\n",
"STUDY_START = 2011  # Period used to test historical performance\n",
"STUDY_END = 2020\n",
"CUMULATIVE_DAYS = 3 # The index is based on 3-day accumulated rainfall\n",
"\n",
"# Setup environment and define variables to store results\n",
"setup_data_directories(DATA_DIR, LPA_DIR)\n",
"ensure_historical_data_exists(DATA_DIR, LPA_START_YR, STUDY_END)\n",
"print("Configuration Loaded.")\n",
"\n",
"# Initialize variables to store EAL/MAL results\n",
"eal_binary, mal_binary = 0, 0\n",
"eal_stat, mal_stat = 0, 0\n",
"eal_graduated, mal_graduated = 0, 0"
]
},
{
"cell_type": "markdown",
"metadata": {},
"source": [
"## 1. Initial Climatology and Trigger Validation\n",
"\n",
"First, we establish the climatological baseline (LPA and $\sigma$) over the reference period (1981-2010) for the 3-day cumulative rainfall index at the target location (Lat: 18.5, Lon: 73.8)."
]
},
{
"cell_type": "code",
"execution_count": null,
"metadata": {},
"outputs": [],
"source": [
"# Calculate LPA and Std Dev over the reference period\n",
"lpa, std_dev, _ = get_climatological_data(LAT, LON, DATA_DIR, LPA_START_YR, LPA_END_YR, CUMULATIVE_DAYS)\n",
"\n",
"print(f"--- Climatology ({LPA_START_YR}-{LPA_END_YR}) ---")\n",
"print(f"LPA (Long Period Average): {lpa:.2f} mm")\n",
"print(f"Standard Deviation (σ): {std_dev:.2f} mm")\n",
"\n",
"# Run AEP analysis over the entire available range\n",
"aep, rp, amax_series = analyze_aep_and_distribution(LAT, LON, DATA_DIR, LPA_START_YR, STUDY_END, BASE_TRIGGER_MM)\n",
"\n",
"print(f"\n--- Trigger Validation for {BASE_TRIGGER_MM:.1f} mm ---")\n",
"print(f"Annual Exceedance Probability (AEP): {aep:.2f} %")\n",
"print(f"Return Period (RP): {rp:.1f} Years")\n",
"\n",
"# Visualization of Annual Maxima\n",
"plt.figure(figsize=(12, 6))\n",
"amax_series.plot(kind='bar', color='darkslategray')\n",
"plt.axhline(BASE_TRIGGER_MM, color='red', linestyle='--', linewidth=2, label=f'Base Catastrophe Trigger ({BASE_TRIGGER_MM:.1f} mm)')\n",
"plt.title('Annual Maximum 3-Day Cumulative Rainfall (1981-2020)', fontsize=16)\n",
"plt.ylabel('Annual Maximum Rainfall (mm)', fontsize=12)\n",
"plt.xlabel('Year', fontsize=12)\n",
"plt.legend()\n",
"plt.grid(axis='y', linestyle='dotted', alpha=0.6)\n",
"plt.show()"
]
},
{
"cell_type": "markdown",
"metadata": {},
"source": [
"--- \n",
"## 2. Contract Type 3: Binary Catastrophic Payout\n",
"\n",
"This model provides the full Max Payout ($100,000) as soon as the index equals or exceeds the hard trigger (204.5 mm). It's the simplest structure, offering pure catastrophe risk transfer.\n",
"\n",
"

$$\n",
"\text{Payout} = \begin{cases} \n",
"\text{Max Payout} & \text{if Index} \ge 204.5 \text{ mm} \\\\\n",
"0 & \text{otherwise}\n",
"\end{cases}\n",
"$$

\n",
"\n",
"### Actuarial Analysis (2011-2020 Study Period)"
]
},
{
"cell_type": "code",
"execution_count": null,
"metadata": {},
"outputs": [],
"source": [
"eal_binary, mal_binary = calculate_historical_loss_expectancy(\n",
"    lat=LAT, lon=LON, data_dir=DATA_DIR, \n",
"    lpa_start_yr=LPA_START_YR, lpa_end_yr=LPA_END_YR, \n",
"    base_trigger_mm=BASE_TRIGGER_MM, max_payout=MAX_PAYOUT,\n",
"    study_start_yr=STUDY_START, study_end_yr=STUDY_END, \n",
"    payout_function=calculate_payout_binary\n",
")\n",
"\n",
"print(f"Binary Catastrophe Payout (Max Payout: {MAX_PAYOUT:,.0f})")\n",
"print(f"Expected Annual Loss (EAL): {eal_binary:,.2f}")\n",
"print(f"Maximum Annual Loss (MAL): {mal_binary:,.2f}")"
]
},
{
"cell_type": "markdown",
"metadata": {},
"source": [
"--- \n",
"## 3. Contract Type 1: Statistical Deviation Payout\n",
"\n",
"This model uses a Z-score trigger based on the LPA and standard deviation ($\sigma$). We set the trigger at $\mathbf{2.5\sigma}$ above the LPA. Payout scales linearly from $0\\%$ at $\mathbf{2.5\sigma}$ to $100\\%$ at $\mathbf{3.5\sigma}$.\n",
"\n",
"

$$\n",
"\text{Payout} = \text{Max Payout} \times \min\left(1.0, \frac{\text{Z-score} - 2.5}{1.0}\right)\n",
"$$

\n",
"\n",
"### Actuarial Analysis (2011-2020 Study Period)"
]
},
{
"cell_type": "code",
"execution_count": null,
"metadata": {},
"outputs": [],
"source": [
"SIGMA_TRIGGER = 2.5\n",
"\n",
"eal_stat, mal_stat = calculate_historical_loss_expectancy(\n",
"    lat=LAT, lon=LON, data_dir=DATA_DIR, \n",
"    lpa_start_yr=LPA_START_YR, lpa_end_yr=LPA_END_YR, \n",
"    base_trigger_mm=BASE_TRIGGER_MM, max_payout=MAX_PAYOUT,\n",
"    study_start_yr=STUDY_START, study_end_yr=STUDY_END, \n",
"    payout_function=calculate_payout_statistical,\n",
"    trigger_std_dev=SIGMA_TRIGGER\n",
")\n",
"\n",
"print(f"Statistical Payout ({SIGMA_TRIGGER}σ Trigger, Max Payout: {MAX_PAYOUT:,.0f})")\n",
"print(f"Expected Annual Loss (EAL): {eal_stat:,.2f}")\n",
"print(f"Maximum Annual Loss (MAL): {mal_stat:,.2f}")"
]
},
{
"cell_type": "markdown",
"metadata": {},
"source": [
"--- \n",
"## 4. Contract Type 2: Graduated Catastrophic Payout\n",
"\n",
"This model maintains the same Base Trigger (204.5 mm) but uses the historical distribution of extreme events to create four payout zones. Payout scales from the trigger up to the 75th percentile of historical catastrophic events.\n",
"\n",
"### A. Calibration: Defining Payout Steps"
]
},
{
"cell_type": "code",
"execution_count": null,
"metadata": {},
"outputs": [],
"source": [
"# Load full historical data for calibration\n",
"_, _, rain_series_full = get_climatological_data(LAT, LON, DATA_DIR, LPA_START_YR, STUDY_END, CUMULATIVE_DAYS)\n",
"\n",
"# Calibrate the steps based on all historical data >= BASE_TRIGGER_MM\n",
"steps = calibrate_extreme_tail(rain_series_full, BASE_TRIGGER_MM)\n",
"\n",
"print(f"--- Graduated Payout Steps (Base Trigger: {BASE_TRIGGER_MM:.1f} mm) ---")\n",
"print(f"Historical events >= Trigger: {steps['count']}")\n",
"print(f"25% Payout Step (Step 1 - 25th percentile): {steps['step_1']:.2f} mm")\n",
"print(f"50% Payout Step (Step 2 - 50th percentile): {steps['step_2']:.2f} mm")\n",
"print(f"75% Payout Step (Step 3 - 75th percentile): {steps['step_3']:.2f} mm")"
]
},
{
"cell_type": "markdown",
"metadata": {},
"source": [
"### B. Actuarial Analysis (2011-2020 Study Period)"
]
},
{
"cell_type": "code",
"execution_count": null,
"metadata": {},
"outputs": [],
"source": [
"eal_graduated, mal_graduated = calculate_historical_loss_expectancy(\n",
"    lat=LAT, lon=LON, data_dir=DATA_DIR, \n",
"    lpa_start_yr=LPA_START_YR, lpa_end_yr=LPA_END_YR, \n",
"    base_trigger_mm=BASE_TRIGGER_MM, max_payout=MAX_PAYOUT,\n",
"    study_start_yr=STUDY_START, study_end_yr=STUDY_END, \n",
"    payout_function=calculate_payout_graduated\n",
")\n",
"\n",
"print(f"Graduated Catastrophe Payout (Max Payout: {MAX_PAYOUT:,.0f})")\n",
"print(f"Expected Annual Loss (EAL): {eal_graduated:,.2f}")\n",
"print(f"Maximum Annual Loss (MAL): {mal_graduated:,.2f}")"
]
},
{
"cell_type": "markdown",
"metadata": {},
"source": [
"--- \n",
"## 5. Summary and Comparison\n",
"\n",
"The final step compiles the Expected Annual Loss (EAL) and Maximum Annual Loss (MAL) for all three contract types into a single, easy-to-read table for comparison."
]
},
{
"cell_type": "code",
"execution_count": null,
"metadata": {},
"outputs": [],
"source": [
"print("--- Summary of Actuarial Metrics (2011-2020 Study Period) ---\n")\n",
"\n",
"summary = [\n",
"    ['Binary Catastrophic (Type 3)', eal_binary, mal_binary, 'Pure cat risk, simplicity'],\n",
"    ['Graduated Catastrophic (Type 2)', eal_graduated, mal_graduated, 'Granular cat risk, severity focus'],\n",
"    ['Statistical Deviation (Type 1)', eal_stat, mal_stat, 'Non-catastrophe deviation coverage (2.5σ trigger)']\n",
"]\n",
"\n",
"summary_df = pd.DataFrame(summary, columns=['Contract Type', 'EAL ($)', 'MAL ($)', 'Design Goal'])\n",
"\n",
"# Format the currency columns\n",
"summary_df['EAL ($)'] = summary_df['EAL ($)'].apply(lambda x: f'${x:,.2f}')\n",
"summary_df['MAL ($)'] = summary_df['MAL ($)'].apply(lambda x: f'${x:,.2f}')\n",
"\n",
"display(summary_df)"
]
}
],
"metadata": {
"kernelspec": {
"display_name": "Python 3",
"language": "python",
"name": "python3"
},
"language_info": {
"codemirror_mode": {
"name": "ipython",
"version": 3
},
"file_extension": ".py",
"mimetype": "text/x-python",
"name": "python",
"nbconvert_exporter": "python",
"pygments_lexer": "ipython3",
"version": "3.10.12"
}
},
"nbformat": 4,
"nbformat_minor": 5
}